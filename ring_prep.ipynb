{
 "cells": [
  {
   "cell_type": "code",
   "execution_count": null,
   "outputs": [],
   "source": [
    "import numpy as np\n",
    "import pandas as pd\n",
    "from sklearn.preprocessing import StandardScaler\n",
    "import matplotlib.pyplot as plt"
   ],
   "metadata": {
    "collapsed": false
   },
   "id": "dc5e84c79a8d0033"
  },
  {
   "cell_type": "code",
   "execution_count": null,
   "outputs": [],
   "source": [
    "# Paths to the downloaded datasets\n",
    "merged_file_path = 'https://raw.githubusercontent.com/raccamateo/NEC_A2/main/A2-ring/A2-ring-merged.txt'\n",
    "separable_file_path = 'https://raw.githubusercontent.com/raccamateo/NEC_A2/main/A2-ring/A2-ring-separable.txt'\n",
    "test_file_path = 'https://raw.githubusercontent.com/raccamateo/NEC_A2/main/A2-ring/A2-ring-test.txt'"
   ],
   "metadata": {
    "collapsed": false
   },
   "id": "28fedf43ac9a7c61"
  },
  {
   "cell_type": "code",
   "execution_count": null,
   "outputs": [],
   "source": [
    "# Load the datasets\n",
    "merged_data = pd.read_csv(merged_file_path, header=None, sep='\\s+')\n",
    "separable_data = pd.read_csv(separable_file_path, header=None, sep='\\s+')\n",
    "test_data = pd.read_csv(test_file_path, header=None, sep='\\s+')"
   ],
   "metadata": {
    "collapsed": false
   },
   "id": "713446ca1b8fb830"
  },
  {
   "cell_type": "code",
   "execution_count": null,
   "outputs": [],
   "source": [
    "# Assuming the last column is the target variable\n",
    "target_column_index = -1"
   ],
   "metadata": {
    "collapsed": false
   },
   "id": "cda6678a2ff1b8ac"
  },
  {
   "cell_type": "code",
   "execution_count": null,
   "outputs": [],
   "source": [
    "# Splitting the datasets into features and target\n",
    "X_merged = merged_data.iloc[:, :target_column_index].values\n",
    "y_merged = merged_data.iloc[:, target_column_index].values\n",
    "X_separable = separable_data.iloc[:, :target_column_index].values\n",
    "y_separable = separable_data.iloc[:, target_column_index].values\n",
    "X_test = test_data.iloc[:, :target_column_index].values\n",
    "y_test = test_data.iloc[:, target_column_index].values"
   ],
   "metadata": {
    "collapsed": false
   },
   "id": "54bb87509bd83253"
  },
  {
   "cell_type": "code",
   "execution_count": null,
   "outputs": [],
   "source": [
    "# Function to plot data\n",
    "def plot_data(X, y, title):\n",
    "    plt.figure(figsize=(8, 6))\n",
    "    plt.scatter(X[y == 0][:, 0], X[y == 0][:, 1], alpha=0.5, label='Class 0')\n",
    "    plt.scatter(X[y == 1][:, 0], X[y == 1][:, 1], alpha=0.5, label='Class 1')\n",
    "    plt.title(title)\n",
    "    plt.xlabel('Feature 1')\n",
    "    plt.ylabel('Feature 2')\n",
    "    plt.legend()\n",
    "    plt.show()"
   ],
   "metadata": {
    "collapsed": false
   },
   "id": "4662862c519f6061"
  },
  {
   "cell_type": "code",
   "execution_count": null,
   "outputs": [],
   "source": [
    "# Plotting the datasets\n",
    "plot_data(X_merged, y_merged, 'Ring Merged Dataset')\n",
    "plot_data(X_separable, y_separable, 'Ring Separable Dataset')\n",
    "plot_data(X_test, y_test, 'Ring Test Dataset')"
   ],
   "metadata": {
    "collapsed": false
   },
   "id": "530ba414cff981b"
  },
  {
   "cell_type": "code",
   "execution_count": null,
   "outputs": [],
   "source": [
    "# Standardize the features\n",
    "scaler = StandardScaler()\n",
    "X_merged_scaled = scaler.fit_transform(X_merged)\n",
    "X_separable_scaled = scaler.fit_transform(X_separable)\n",
    "X_test_scaled = scaler.transform(X_test)  # Only transform, don't fit, to simulate real-world scenario"
   ],
   "metadata": {
    "collapsed": false
   },
   "id": "d54aa30205ee3eb"
  },
  {
   "cell_type": "code",
   "execution_count": null,
   "outputs": [],
   "source": [
    "# Visualize the scaled data\n",
    "plt.scatter(X_merged_scaled[:, 0], X_merged_scaled[:, 1], c=y_merged)\n",
    "plt.title('Scaled Ring Merged Dataset')\n",
    "plt.xlabel('Feature 1')\n",
    "plt.ylabel('Feature 2')\n",
    "plt.show()\n",
    "\n",
    "plt.scatter(X_separable_scaled[:, 0], X_separable_scaled[:, 1], c=y_separable)\n",
    "plt.title('Scaled Ring Separable Dataset')\n",
    "plt.xlabel('Feature 1')\n",
    "plt.ylabel('Feature 2')\n",
    "plt.show()"
   ],
   "metadata": {
    "collapsed": false
   },
   "id": "f176da76206123a2"
  },
  {
   "cell_type": "code",
   "execution_count": null,
   "outputs": [],
   "source": [
    "# Combine the scaled features with their corresponding target variables\n",
    "merged_scaled = np.column_stack((X_merged_scaled, y_merged))\n",
    "separable_scaled = np.column_stack((X_separable_scaled, y_separable))\n",
    "test_scaled = np.column_stack((X_test_scaled, y_test))"
   ],
   "metadata": {
    "collapsed": false
   },
   "id": "c699ab0386f91db8"
  },
  {
   "cell_type": "code",
   "execution_count": null,
   "outputs": [],
   "source": [
    "# Save the scaled datasets\n",
    "np.savetxt(\"ring_merged_scaled.csv\", merged_scaled, delimiter=\",\")\n",
    "np.savetxt(\"ring_separable_scaled.csv\", separable_scaled, delimiter=\",\")\n",
    "np.savetxt(\"ring_test_scaled.csv\", test_scaled, delimiter=\",\")"
   ],
   "metadata": {
    "collapsed": false
   },
   "id": "84af7f2e1f529c7"
  }
 ],
 "metadata": {
  "kernelspec": {
   "display_name": "Python 3",
   "language": "python",
   "name": "python3"
  },
  "language_info": {
   "codemirror_mode": {
    "name": "ipython",
    "version": 2
   },
   "file_extension": ".py",
   "mimetype": "text/x-python",
   "name": "python",
   "nbconvert_exporter": "python",
   "pygments_lexer": "ipython2",
   "version": "2.7.6"
  }
 },
 "nbformat": 4,
 "nbformat_minor": 5
}
