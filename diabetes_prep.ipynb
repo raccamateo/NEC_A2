{
 "cells": [
  {
   "cell_type": "code",
   "execution_count": null,
   "id": "initial_id",
   "metadata": {
    "collapsed": true
   },
   "outputs": [],
   "source": [
    "import pandas as pd\n",
    "from sklearn.model_selection import train_test_split\n",
    "from sklearn.preprocessing import StandardScaler\n",
    "import matplotlib.pyplot as plt"
   ]
  },
  {
   "cell_type": "code",
   "execution_count": null,
   "outputs": [],
   "source": [
    "# Function to load the dataset from a URL\n",
    "def load_dataset(url):\n",
    "    return pd.read_csv(url)"
   ],
   "metadata": {
    "collapsed": false
   },
   "id": "1b7fcfd7457cf98e"
  },
  {
   "cell_type": "code",
   "execution_count": null,
   "outputs": [],
   "source": [
    "# Function to visualize the distribution of a feature\n",
    "def plot_data_distribution(data, feature):\n",
    "    plt.figure(figsize=(10, 6))\n",
    "    plt.hist(data[feature], bins=50, color='blue', alpha=0.7)\n",
    "    plt.title(f'Distribution of {feature}')\n",
    "    plt.xlabel(feature)\n",
    "    plt.ylabel('Frequency')\n",
    "    plt.show()"
   ],
   "metadata": {
    "collapsed": false
   },
   "id": "10da57c7664b87a7"
  },
  {
   "cell_type": "code",
   "execution_count": null,
   "outputs": [],
   "source": [
    "# Load the dataset\n",
    "diabetes_df = load_dataset('https://raw.githubusercontent.com/raccamateo/NEC_A2/main/diabetes_original.csv')"
   ],
   "metadata": {
    "collapsed": false
   },
   "id": "35171540385a4642"
  },
  {
   "cell_type": "code",
   "execution_count": null,
   "outputs": [],
   "source": [
    "# Data exploration\n",
    "print(diabetes_df.head())\n",
    "print(diabetes_df.describe())"
   ],
   "metadata": {
    "collapsed": false
   },
   "id": "f9f4eb5c7ea1c579"
  },
  {
   "cell_type": "code",
   "execution_count": null,
   "outputs": [],
   "source": [
    "# Visualize the distribution of each numerical feature in the dataset\n",
    "numerical_features = diabetes_df.select_dtypes(include=['int64', 'float64']).columns.tolist()\n",
    "for feature in numerical_features:\n",
    "    plot_data_distribution(diabetes_df, feature)"
   ],
   "metadata": {
    "collapsed": false
   },
   "id": "cd3a9b90de505b5c"
  },
  {
   "cell_type": "code",
   "execution_count": null,
   "outputs": [],
   "source": [
    "# Shuffle the data to remove any inherent sorting\n",
    "diabetes_df_shuffled = diabetes_df.sample(frac=1, random_state=42).reset_index(drop=True)"
   ],
   "metadata": {
    "collapsed": false
   },
   "id": "7a42c9fd589800db"
  },
  {
   "cell_type": "code",
   "execution_count": null,
   "outputs": [],
   "source": [
    "# Split the data into training/validation (80%) and testing (20%) sets\n",
    "train_val_df, test_df = train_test_split(diabetes_df_shuffled, test_size=0.2, random_state=42)"
   ],
   "metadata": {
    "collapsed": false
   },
   "id": "6da43c744a1eb89b"
  },
  {
   "cell_type": "code",
   "execution_count": null,
   "outputs": [],
   "source": [
    "# Identify features and target column\n",
    "# Assuming the last column is the target for classification\n",
    "features = train_val_df.columns[:-1]\n",
    "target = train_val_df.columns[-1]"
   ],
   "metadata": {
    "collapsed": false
   },
   "id": "bd6e9f661cdc9444"
  },
  {
   "cell_type": "code",
   "execution_count": null,
   "outputs": [],
   "source": [
    "# Normalize the numerical features using StandardScaler\n",
    "scaler = StandardScaler()\n",
    "train_val_df[features] = scaler.fit_transform(train_val_df[features])\n",
    "test_df[features] = scaler.transform(test_df[features])"
   ],
   "metadata": {
    "collapsed": false
   },
   "id": "536c064fd1897eb1"
  },
  {
   "cell_type": "code",
   "execution_count": null,
   "outputs": [],
   "source": [
    "# Save the preprocessed data\n",
    "train_val_df.to_csv('diabetes_train_val.csv', index=False)\n",
    "test_df.to_csv('diabetes_test.csv', index=False)"
   ],
   "metadata": {
    "collapsed": false
   },
   "id": "ffef4663b768ce50"
  }
 ],
 "metadata": {
  "kernelspec": {
   "display_name": "Python 3",
   "language": "python",
   "name": "python3"
  },
  "language_info": {
   "codemirror_mode": {
    "name": "ipython",
    "version": 2
   },
   "file_extension": ".py",
   "mimetype": "text/x-python",
   "name": "python",
   "nbconvert_exporter": "python",
   "pygments_lexer": "ipython2",
   "version": "2.7.6"
  }
 },
 "nbformat": 4,
 "nbformat_minor": 5
}
